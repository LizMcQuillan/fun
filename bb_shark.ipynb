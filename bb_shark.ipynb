{
 "cells": [
  {
   "cell_type": "code",
   "execution_count": 38,
   "metadata": {},
   "outputs": [],
   "source": [
    "import time"
   ]
  },
  {
   "cell_type": "code",
   "execution_count": 39,
   "metadata": {},
   "outputs": [],
   "source": [
    "verse = [\"Baby Shark!\", \"Mommy Shark!\", \"Daddy Shark!\", \"Let's go hunt!\", \"Run away!\"]"
   ]
  },
  {
   "cell_type": "code",
   "execution_count": 40,
   "metadata": {},
   "outputs": [],
   "source": [
    "do_do = \"Do-do do do do do\""
   ]
  },
  {
   "cell_type": "code",
   "execution_count": 41,
   "metadata": {},
   "outputs": [],
   "source": [
    "tempo = 2"
   ]
  },
  {
   "cell_type": "code",
   "execution_count": 42,
   "metadata": {},
   "outputs": [
    {
     "name": "stdout",
     "output_type": "stream",
     "text": [
      "Get Ready!\n",
      "**********\n",
      "3\n",
      "2\n",
      "1\n"
     ]
    }
   ],
   "source": [
    "print(\"Get Ready!\")\n",
    "print(\"**********\")\n",
    "time.sleep(tempo/2)\n",
    "countdown = 3\n",
    "for loop in range(3):\n",
    "    print(countdown)\n",
    "    time.sleep(tempo/2)\n",
    "    countdown -=1"
   ]
  },
  {
   "cell_type": "code",
   "execution_count": 43,
   "metadata": {},
   "outputs": [
    {
     "name": "stdout",
     "output_type": "stream",
     "text": [
      "Baby Shark! Do-do do do do do,\n",
      "Baby Shark! Do-do do do do do,\n",
      "Baby Shark! Do-do do do do do,\n",
      "Baby Shark!\n",
      "\n",
      "Mommy Shark! Do-do do do do do,\n",
      "Mommy Shark! Do-do do do do do,\n",
      "Mommy Shark! Do-do do do do do,\n",
      "Mommy Shark!\n",
      "\n",
      "Daddy Shark! Do-do do do do do,\n",
      "Daddy Shark! Do-do do do do do,\n",
      "Daddy Shark! Do-do do do do do,\n",
      "Daddy Shark!\n",
      "\n",
      "Let's go hunt! Do-do do do do do,\n",
      "Let's go hunt! Do-do do do do do,\n",
      "Let's go hunt! Do-do do do do do,\n",
      "Let's go hunt!\n",
      "\n",
      "Run away! Do-do do do do do,\n",
      "Run away! Do-do do do do do,\n",
      "Run away! Do-do do do do do,\n",
      "Run away!\n",
      "\n"
     ]
    }
   ],
   "source": [
    "for shark in verse:\n",
    "    for loop in range(3):\n",
    "        if shark == \"Run Away!\":\n",
    "            tempo = tempo/2\n",
    "        print(shark, do_do+\",\")\n",
    "        time.sleep(tempo)\n",
    "    tempo = 2\n",
    "    print(shark)\n",
    "    time.sleep(tempo)\n",
    "    print()"
   ]
  },
  {
   "cell_type": "code",
   "execution_count": null,
   "metadata": {},
   "outputs": [],
   "source": []
  }
 ],
 "metadata": {
  "kernelspec": {
   "display_name": "Python 3",
   "language": "python",
   "name": "python3"
  },
  "language_info": {
   "codemirror_mode": {
    "name": "ipython",
    "version": 3
   },
   "file_extension": ".py",
   "mimetype": "text/x-python",
   "name": "python",
   "nbconvert_exporter": "python",
   "pygments_lexer": "ipython3",
   "version": "3.7.0"
  }
 },
 "nbformat": 4,
 "nbformat_minor": 2
}
